{
 "cells": [
  {
   "cell_type": "code",
   "execution_count": 1,
   "id": "c61e2d12",
   "metadata": {},
   "outputs": [],
   "source": [
    "import re\n",
    "import numpy as np\n",
    "import sys"
   ]
  },
  {
   "cell_type": "code",
   "execution_count": 2,
   "id": "2833080e",
   "metadata": {},
   "outputs": [],
   "source": [
    "def ciphertext(\n",
    "    input_text,\n",
    "    ):\n",
    "    \n",
    "    # remove the space\n",
    "    input_text_no_space = re.sub(r'\\s+', r'', input_text).lower()\n",
    "    \n",
    "    #length of the string\n",
    "\n",
    "    L = len(input_text_no_space)\n",
    "    \n",
    "    # initialize the optimal row and colum\n",
    "    optimal_row, optimal_column = 1, L\n",
    "    \n",
    "    #identify the optimal row and column size  \n",
    "    for row in range(1,L+1):\n",
    "        \n",
    "        # make sure row<=column\n",
    "        column = int(np.ceil(L/row))\n",
    "        #print(row, column, row*column)\n",
    "        \n",
    "        diff = np.abs(row-column)\n",
    "        diff_optimal = np.abs(optimal_row-optimal_column)\n",
    "        \n",
    "        '''\n",
    "        area = row*column\n",
    "        area_optimal = optimal_row * optimal_column\n",
    "        '''\n",
    "        \n",
    "        if row<=column and diff <= diff_optimal:\n",
    "            optimal_row, optimal_column = row, column        \n",
    "\n",
    "    #print(f'row: {optimal_row}, column: {optimal_column}, L: {L}')    \n",
    "    \n",
    "    #initialize the output text array   \n",
    "    output_text = [' ']*((optimal_row+1)*(optimal_column+1))\n",
    "    \n",
    "    #assigne the chars from the input to the outout array\n",
    "    \n",
    "    for i in range(L):\n",
    "        \n",
    "        # identify the positions of each char\n",
    "        \n",
    "        row_id = i%optimal_column\n",
    "        column_id = i//optimal_column\n",
    "        \n",
    "        #print(input_text_no_space[i], row_id, column_id)\n",
    "        \n",
    "        # assign the chars\n",
    "        \n",
    "        output_text[row_id*(optimal_row+1)+column_id] = input_text_no_space[i]\n",
    "    \n",
    "    # make the string from the array\n",
    "        \n",
    "    output_text = ''.join(output_text)\n",
    "    output_text = re.sub(r'\\s+', r' ', output_text)\n",
    "    output_text = output_text.strip()\n",
    "        \n",
    "    \n",
    "    return output_text"
   ]
  },
  {
   "cell_type": "code",
   "execution_count": 3,
   "id": "cc281b7b",
   "metadata": {},
   "outputs": [
    {
     "data": {
      "text/plain": [
       "'latt odri oiao kscn'"
      ]
     },
     "execution_count": 3,
     "metadata": {},
     "output_type": "execute_result"
    }
   ],
   "source": [
    "input_text = u\"lookadistraction\"\n",
    "ciphertext(input_text)"
   ]
  },
  {
   "cell_type": "code",
   "execution_count": 4,
   "id": "02277499",
   "metadata": {},
   "outputs": [
    {
     "data": {
      "text/plain": [
       "'bnr aao ner ar'"
      ]
     },
     "execution_count": 4,
     "metadata": {},
     "output_type": "execute_result"
    }
   ],
   "source": [
    "input_text = u\"bananaerror\"\n",
    "ciphertext(input_text)"
   ]
  },
  {
   "cell_type": "code",
   "execution_count": 5,
   "id": "59884826",
   "metadata": {
    "scrolled": true
   },
   "outputs": [
    {
     "data": {
      "text/plain": [
       "'clu hlt io'"
      ]
     },
     "execution_count": 5,
     "metadata": {},
     "output_type": "execute_result"
    }
   ],
   "source": [
    "input_text = u\"chillout\"\n",
    "ciphertext(input_text)"
   ]
  },
  {
   "cell_type": "markdown",
   "id": "ba078184",
   "metadata": {},
   "source": [
    "Going over the first section, I found the solution works for the 3 samples but not for the other sample input as provided in the section's description (“On a scale from one to ten what is your favourite colour of the alphabet”). Can you apply fix/refactor to your code so the output is correct for this sample as well? You can find the correct output in the assignment file.\n",
    "\n",
    "current output: Oreoioa nonutfb amwrete sohfcht cnaaoe  aetvla  ltiool  eosuup  ftyrrh\n",
    "\n",
    "expected output: ofoivohe nrtsolet aoeyuoa smnorul cowuirp anhrtoh leafefa ettactb"
   ]
  },
  {
   "cell_type": "code",
   "execution_count": 6,
   "id": "4e84aa16",
   "metadata": {},
   "outputs": [
    {
     "data": {
      "text/plain": [
       "'ofoivohe nrtsolet aoeyuoa smnorul cowuirp anhrtoh leafefa ettactb'"
      ]
     },
     "execution_count": 6,
     "metadata": {},
     "output_type": "execute_result"
    }
   ],
   "source": [
    "input_text = u\"On a scale from one to ten what is your favourite colour of the alphabet\"\n",
    "ciphertext(input_text)"
   ]
  }
 ],
 "metadata": {
  "kernelspec": {
   "display_name": "Python 3 (ipykernel)",
   "language": "python",
   "name": "python3"
  },
  "language_info": {
   "codemirror_mode": {
    "name": "ipython",
    "version": 3
   },
   "file_extension": ".py",
   "mimetype": "text/x-python",
   "name": "python",
   "nbconvert_exporter": "python",
   "pygments_lexer": "ipython3",
   "version": "3.10.6"
  }
 },
 "nbformat": 4,
 "nbformat_minor": 5
}
