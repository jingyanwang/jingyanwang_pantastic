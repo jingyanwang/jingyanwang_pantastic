{
 "cells": [
  {
   "cell_type": "code",
   "execution_count": 1,
   "id": "c61e2d12",
   "metadata": {},
   "outputs": [],
   "source": [
    "import re\n",
    "import numpy as np\n",
    "import sys"
   ]
  },
  {
   "cell_type": "code",
   "execution_count": 2,
   "id": "2833080e",
   "metadata": {},
   "outputs": [],
   "source": [
    "def ciphertext(\n",
    "    input_text,\n",
    "    ):\n",
    "    \n",
    "    # remove the space\n",
    "    input_text_no_space = re.sub(r'\\s+', r'', input_text)\n",
    "    \n",
    "    #length of the string\n",
    "\n",
    "    L = len(input_text_no_space)\n",
    "    \n",
    "    # initialize the optimal row and colum\n",
    "\n",
    "    optimal_row, optimal_column = int(np.ceil(np.sqrt(L)))+1, int(np.ceil(np.sqrt(L)))+1      \n",
    "    \n",
    "    #identify the optimal row and column size\n",
    "    '''\n",
    "    only search around the square root of the L\n",
    "    even the question description says choose the one with the minimum area,\n",
    "    but according to the example outputs, the row and column size are always around the square root of L\n",
    "    '''\n",
    "    for row in range(\n",
    "        int(np.floor(np.sqrt(L))), \n",
    "        int(np.ceil(np.sqrt(L)))+1):\n",
    "        \n",
    "        # make sure row<=column\n",
    "        column = int(np.ceil(L/row))\n",
    "        \n",
    "        #print(row, column, row*column)\n",
    "\n",
    "        if row*column < optimal_row * optimal_column and row<column:\n",
    "            optimal_row, optimal_column = row, column\n",
    "        \n",
    "\n",
    "    #print(optimal_row, optimal_column, L)    \n",
    "    \n",
    "    #initialize the output text array\n",
    "   \n",
    "    output_text = [' ']*((optimal_row+1)*(optimal_column+1))\n",
    "    \n",
    "    #assigne the chars from the input to the outout array\n",
    "    \n",
    "    for i in range(L):\n",
    "        \n",
    "        # identify the positions of each char\n",
    "        \n",
    "        row_id = i%optimal_column\n",
    "        column_id = i//optimal_column\n",
    "        \n",
    "        #print(input_text_no_space[i], row_id, column_id)\n",
    "        \n",
    "        # assign the chars\n",
    "        \n",
    "        output_text[row_id*(optimal_row+1)+column_id] = input_text_no_space[i]\n",
    "    \n",
    "    # make the string from the array\n",
    "        \n",
    "    output_text = ''.join(output_text)\n",
    "    output_text = output_text.strip()\n",
    "        \n",
    "    \n",
    "    return output_text"
   ]
  },
  {
   "cell_type": "code",
   "execution_count": 3,
   "id": "cc281b7b",
   "metadata": {},
   "outputs": [
    {
     "data": {
      "text/plain": [
       "'ldan  oic   ost   kti   aro'"
      ]
     },
     "execution_count": 3,
     "metadata": {},
     "output_type": "execute_result"
    }
   ],
   "source": [
    "input_text = u\"lookadistraction\"\n",
    "ciphertext(input_text)"
   ]
  },
  {
   "cell_type": "code",
   "execution_count": 4,
   "id": "02277499",
   "metadata": {},
   "outputs": [
    {
     "data": {
      "text/plain": [
       "'bnr aao ner ar'"
      ]
     },
     "execution_count": 4,
     "metadata": {},
     "output_type": "execute_result"
    }
   ],
   "source": [
    "input_text = u\"bananaerror\"\n",
    "ciphertext(input_text)"
   ]
  },
  {
   "cell_type": "code",
   "execution_count": 5,
   "id": "59884826",
   "metadata": {
    "scrolled": true
   },
   "outputs": [
    {
     "data": {
      "text/plain": [
       "'cl ho iu lt'"
      ]
     },
     "execution_count": 5,
     "metadata": {},
     "output_type": "execute_result"
    }
   ],
   "source": [
    "input_text = u\"chillout\"\n",
    "ciphertext(input_text)"
   ]
  }
 ],
 "metadata": {
  "kernelspec": {
   "display_name": "Python 3 (ipykernel)",
   "language": "python",
   "name": "python3"
  },
  "language_info": {
   "codemirror_mode": {
    "name": "ipython",
    "version": 3
   },
   "file_extension": ".py",
   "mimetype": "text/x-python",
   "name": "python",
   "nbconvert_exporter": "python",
   "pygments_lexer": "ipython3",
   "version": "3.10.6"
  }
 },
 "nbformat": 4,
 "nbformat_minor": 5
}
